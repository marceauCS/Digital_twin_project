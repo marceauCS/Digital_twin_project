{
 "cells": [
  {
   "cell_type": "markdown",
   "metadata": {},
   "source": [
    "# Exective summary of Work Package 2\n",
    "\n",
    "## Objectives\n",
    "\n",
    "In this WP, you will work on a given training dataset. Your goal is to develop a fault detection model using the classification algorithms learnt in the class, in order to achieve best F1 score.\n",
    "\n",
    "## Tasks\n",
    "\n",
    "- Task 1: Develop a fault detection model using the unsupervised learning algorithms learnt in the class, in order to achieve best F1 score.\n",
    "- Task 2: With the help of the supporting script, develop a cross-validation scheme to test the performance of the developed classification algorithms.\n",
    "- Task 3: Develop a fault detection model using the classification algorithms learnt in the class, in order to achieve best F1 score.\n",
    "\n",
    "## Delierables\n",
    "\n",
    "- A Jupyter notebook reporting the process and results of the above tasks\n"
   ]
  },
  {
   "cell_type": "markdown",
   "metadata": {},
   "source": [
    "# Before starting, please:\n",
    "- Fetch the most up-to-date version of the github repository.\n",
    "- Create a new branch with your name, based on the \"main\" branch and switch to your own branch.\n",
    "- Copy this notebook to the work space of your group, and rename it to TD_WP_2_Your name.ipynb\n",
    "- After finishing this task, push your changes to the github repository of your group."
   ]
  },
  {
   "cell_type": "markdown",
   "metadata": {},
   "source": [
    "# Task 1: Unsupervised learning approaches\n",
    "\n",
    "## Implement the statistical testing approach for fault detection\n",
    "\n",
    "In this exercise, we interpret the statistical testing approach for fault detection. The basic idea of statistical testing approach is that we fit a multi-dimensitional distribution to the observation data under normal working condition. Then, when a new data point arrives, we design a hypothesis test to see whether the new data point is consistent with the distribution. If the new data point is consistent with the distribution, we can conclude that the fault is not due to the faulty component.\n",
    "\n",
    "The benefit of this approach is that, to design the detection algrothim, we do not need failed data. Also, the computational time is short as all we need is just to compute the pdf and compare it to a threshold.\n",
    "\n",
    "In this exercise, you need to:\n",
    "- Fit a multi-dimensitional distribution to the training dataset (all normal samples).\n",
    "- Design a fault detection algorithm based on the fitted distribution to detect faulty components.\n",
    "\n",
    "The following block defines a few functions that you can use."
   ]
  },
  {
   "cell_type": "code",
   "execution_count": 1,
   "metadata": {},
   "outputs": [],
   "source": [
    "\n",
    "import numpy as np\n",
    "import matplotlib.pyplot as plt\n",
    "%matplotlib inline\n",
    "from scipy.stats import multivariate_normal\n",
    "from sklearn.preprocessing import MinMaxScaler\n",
    "from sklearn.metrics import make_scorer,accuracy_score ,precision_score, recall_score\n",
    "from sklearn.metrics import f1_score,confusion_matrix, roc_curve, auc\n",
    "from sklearn.metrics import accuracy_score, classification_report\n",
    "from sklearn.neighbors import LocalOutlierFactor\n",
    "import seaborn as sns\n",
    "from sklearn.model_selection import GridSearchCV\n",
    "from sklearn.model_selection import train_test_split\n",
    "from sklearn.model_selection import KFold\n",
    "from sklearn.model_selection import cross_val_score\n",
    "from sklearn.linear_model import LogisticRegression\n",
    "from sklearn.tree import DecisionTreeClassifier\n",
    "from sklearn.ensemble import RandomForestClassifier, GradientBoostingClassifier\n",
    "from sklearn.svm import SVC\n",
    "from sklearn.pipeline import Pipeline\n",
    "from sklearn.preprocessing import StandardScaler"
   ]
  },
  {
   "cell_type": "code",
   "execution_count": 2,
   "metadata": {},
   "outputs": [],
   "source": [
    "def estimateGaussian(X):\n",
    "    '''Given X, this function estimates the parameter of a multivariate Gaussian distribution.'''\n",
    "    mu = np.mean(X, axis=0)\n",
    "    sigma2 = np.var(X, axis=0)\n",
    "    return mu, sigma2\n",
    "\n",
    "def classify(X, distribution, log_epsilon=-1.1e6):\n",
    "    '''Given X, this function classifies each sample in X based on the multivariate Gaussian distribution. \n",
    "       The decision rule is: if the log pdf is less than log_epsilon, we predict 1, as the sample is unlikely to be from the distribution, which represents normal operation.\n",
    "    '''\n",
    "    p = distribution.logpdf(X)\n",
    "    predictions = (p < log_epsilon).astype(int)\n",
    "    \n",
    "    return predictions"
   ]
  },
  {
   "cell_type": "markdown",
   "metadata": {},
   "source": [
    "Let us use the dataset `20240105_164214` as training dataset, as all the samples in this dataset are normal operation. We will use the dataset `20240325_155003` as testing dataset. Let us try to predict the state of motor 1. For this, we first extract the position, temperature and voltage of motor 1 as features (you can change the features if you want). "
   ]
  },
  {
   "cell_type": "code",
   "execution_count": 3,
   "metadata": {},
   "outputs": [],
   "source": [
    "import sys\n",
    "sys.path.insert(0, 'C:\\\\Users\\lucas\\Documents\\GitHub\\digital_twin_robot\\projects\\maintenance_industry_4_2024\\supporting_scripts\\WP_1')\n",
    "\n",
    "from functions import *\n",
    "from utility import read_all_csvs_one_test\n",
    "import pandas as pd\n",
    "\n",
    "# Specify path to the dictionary.\n",
    "base_dictionary = '../../dataset/training_data/'\n",
    "dictionary_name = '20240105_164214'\n",
    "path = base_dictionary + dictionary_name\n",
    "\n",
    "# Read the data.\n",
    "df_data = read_all_csvs_one_test(path, dictionary_name)\n",
    "\n",
    "# Smooth the data.\n",
    "window_size = 10\n",
    "\n",
    "smoothed_data = df_data.copy(deep=True)\n",
    "smoothed_data.drop(columns=['time','test_condition'], inplace=True)\n",
    "\n",
    "for i in range(1,7):\n",
    "    smoothed_data[f'data_motor_{i}_voltage'] = smooth_data_moving_average(df_data[f'data_motor_{i}_voltage'], window_size)\n",
    "    \n",
    "#remove outliers\n",
    "\n",
    "smoothed_no_outliers = remove_outliers(smoothed_data,10)\n",
    "\n",
    "# Get the features\n",
    "\n",
    "drop_list1_label1 = ['data_motor_2_voltage', 'data_motor_3_voltage', 'data_motor_4_voltage', 'data_motor_5_voltage', 'data_motor_6_voltage', 'data_motor_6_position']\n",
    "\n",
    "drop_list2_label1 = ['data_motor_2_voltage', 'data_motor_3_voltage', 'data_motor_4_voltage', 'data_motor_5_voltage', 'data_motor_6_voltage', 'data_motor_6_position','data_motor_2_position','data_motor_3_position','data_motor_4_position','data_motor_5_position','data_motor_2_temperature','data_motor_3_temperature','data_motor_4_temperature','data_motor_6_temperature']\n",
    "\n",
    "#drop_list1_label1 = ['data_motor_1_voltage','data_motor_2_voltage', 'data_motor_3_voltage', 'data_motor_4_voltage', 'data_motor_5_voltage', 'data_motor_6_voltage', 'data_motor_6_position']\n",
    "\n",
    "label_columns = ['data_motor_1_label', 'data_motor_2_label', 'data_motor_3_label', 'data_motor_4_label', 'data_motor_5_label', 'data_motor_6_label']\n",
    "\n",
    "X_train = smoothed_no_outliers.drop(columns=label_columns+drop_list1_label1)\n",
    "\n",
    "# Normalization\n",
    "scaler = MinMaxScaler()\n",
    "X_train_normalized = scaler.fit_transform(X_train)\n",
    "\n",
    "### We do the same to get the test dataset.\n",
    "\n",
    "dictionary_name = '20240325_155003'\n",
    "path = base_dictionary + dictionary_name\n",
    "\n",
    "# Read the data.\n",
    "df_data = read_all_csvs_one_test(path, dictionary_name)\n",
    "\n",
    "# Smooth the data.\n",
    "window_size = 10\n",
    "\n",
    "smoothed_data = df_data.copy(deep=True)\n",
    "smoothed_data.drop(columns=['time','test_condition'], inplace=True)\n",
    "\n",
    "for i in range(1,7):\n",
    "    smoothed_data[f'data_motor_{i}_voltage'] = smooth_data_moving_average(df_data[f'data_motor_{i}_voltage'], window_size)\n",
    "\n",
    "#remove outliers\n",
    "\n",
    "smoothed_no_outliers = remove_outliers(smoothed_data,10)\n",
    "\n",
    "# Get the features\n",
    "X_test = smoothed_no_outliers.drop(columns=label_columns+drop_list1_label1)\n",
    "\n",
    "y_test = smoothed_no_outliers['data_motor_1_label']\n",
    "\n",
    "# Normalization\n",
    "scaler = MinMaxScaler()\n",
    "X_test_normalized = scaler.fit_transform(X_test)"
   ]
  },
  {
   "cell_type": "markdown",
   "metadata": {},
   "source": [
    "Please design your algorithm below:"
   ]
  },
  {
   "cell_type": "code",
   "execution_count": 4,
   "metadata": {},
   "outputs": [
    {
     "name": "stdout",
     "output_type": "stream",
     "text": [
      "Accuracy: 0.8618773157678057\n"
     ]
    }
   ],
   "source": [
    "# First, we need to fit a MVN distribution to the normal samples.\n",
    "# Put your code here.\n",
    "\n",
    "mu, sigma2 = estimateGaussian(pd.DataFrame(X_train))\n",
    "\n",
    "variances = sigma2.values  # Convert sigma2 to a numpy array\n",
    "variances_1d = np.diag(variances)  # Create a diagonal matrix using variances\n",
    "\n",
    "# Add a small epsilon value to ensure positive definiteness\n",
    "epsilon = 1e-1\n",
    "sigma2_reg = variances_1d + epsilon * np.eye(len(variances_1d))\n",
    "\n",
    "# Construct multivariate Gaussian distribution\n",
    "distribution = multivariate_normal(mean=mu, cov=sigma2_reg)\n",
    "\n",
    "# Construct a multivariate Gaussian distribution to represent normal operation.\n",
    "#distribution = multivariate_normal(mean=mu, cov=np.diag(sigma2))\n",
    "\n",
    "y_pred = classify(X_test,distribution)\n",
    "\n",
    "# Calculate accuracy of the prediction.\n",
    "accuracy = accuracy_score(y_test, y_pred)\n",
    "print(\"Accuracy:\", accuracy)"
   ]
  },
  {
   "cell_type": "code",
   "execution_count": 5,
   "metadata": {},
   "outputs": [
    {
     "data": {
      "image/png": "[encoded data removed]",
      "text/plain": [
       "<Figure size 800x600 with 2 Axes>"
      ]
     },
     "metadata": {},
     "output_type": "display_data"
    },
    {
     "name": "stdout",
     "output_type": "stream",
     "text": [
      "              precision    recall  f1-score   support\n",
      "\n",
      "           0       0.85      0.98      0.91      3578\n",
      "           1       0.91      0.53      0.67      1280\n",
      "\n",
      "    accuracy                           0.86      4858\n",
      "   macro avg       0.88      0.75      0.79      4858\n",
      "weighted avg       0.87      0.86      0.85      4858\n",
      "\n"
     ]
    },
    {
     "data": {
      "image/png": "[encoded data removed]",
      "text/plain": [
       "<Figure size 640x480 with 1 Axes>"
      ]
     },
     "metadata": {},
     "output_type": "display_data"
    }
   ],
   "source": [
    "cm = confusion_matrix(y_test, y_pred)\n",
    "\n",
    "plt.figure(figsize=(8, 6))\n",
    "\n",
    "for i in range(len(cm)):\n",
    "    for j in range(len(cm[i])):\n",
    "        plt.text(j + 0.5, i + 0.5, str(cm[i][j]), ha='center', va='center')\n",
    "\n",
    "sns.heatmap(cm, annot=False, cmap=\"Blues\", cbar=True)\n",
    "plt.xlabel('Predicted')\n",
    "plt.ylabel('Actual')\n",
    "plt.title('Confusion Matrix')\n",
    "plt.show()\n",
    "\n",
    "print(classification_report(y_test, y_pred))\n",
    "\n",
    "fpr, tpr, thresholds = roc_curve(y_test, y_pred) \n",
    "roc_auc = auc(fpr, tpr)\n",
    "# Plot the ROC curve\n",
    "plt.figure()  \n",
    "plt.plot(fpr, tpr, label='ROC curve (area = %0.2f)' % roc_auc)\n",
    "plt.plot([0, 1], [0, 1], 'k--', label='Baseline')\n",
    "plt.xlim([0.0, 1.0])\n",
    "plt.ylim([0.0, 1.05])\n",
    "plt.xlabel('False Positive Rate')\n",
    "plt.ylabel('True Positive Rate')\n",
    "plt.title('ROC Curve')\n",
    "plt.legend()\n",
    "plt.show()"
   ]
  },
  {
   "cell_type": "markdown",
   "metadata": {},
   "source": [
    "**Discussions:**\n",
    "- Can you please try to improve the performance of this approach?\n",
    "    - For example, by normalizating the data?\n",
    "    - By smoothing the data?\n",
    "    - By reducing feature number?\n",
    "    - etc.\n",
    "- The parameter log_epsilon defines the threshold we use for making classification. What happens if you change it?\n",
    "- Could you discuss how we should get the best value for this parameter?"
   ]
  },
  {
   "cell_type": "markdown",
   "metadata": {},
   "source": [
    "- For values greater than or equal to log_epsilon=-1e6, the model's accuracy remains unchanged. However, for log_epsilon values greater than -2e6, we observe a significant increase in false negatives and the model performs similar to a random classifier (area under the ROC curve = 0.5). When log_epsilon is set to values lower than -1e6, the accuracy of the model begins to decrease considerably.\n",
    "\n",
    "- no improvement by reducing the number of features\n",
    "\n",
    "- no improvement by normalizating\n"
   ]
  },
  {
   "cell_type": "markdown",
   "metadata": {},
   "source": [
    "## Local outiler factor (LOF)\n",
    "\n",
    "The local outlier factor (LOF) algorithm computes the local density deviation of a given data point with respect to its neighbors. It considers as outliers the samples that have a substantially lower density than their neighbors. You can easiliy implement LOF in scikit-learn ([tutorial](https://www.datatechnotes.com/2020/04/anomaly-detection-with-local-outlier-factor-in-python.html)).\n",
    "\n",
    "Please implement local outlier factor (LOF) algorithm on the dataset of `20240325_155003`. You can try first to detect the failure of motor 1 using this model. Please calculate the accuracy score of your prediction."
   ]
  },
  {
   "cell_type": "code",
   "execution_count": 6,
   "metadata": {},
   "outputs": [
    {
     "name": "stdout",
     "output_type": "stream",
     "text": [
      "Accuracy: 0.7593659942363112\n"
     ]
    }
   ],
   "source": [
    "lof = LocalOutlierFactor(n_neighbors=550, contamination=.05)\n",
    "y_pred = lof.fit_predict(X_test)\n",
    "\n",
    "# Convert predicted labels (-1 and 1) to match class labels (0 and 1)\n",
    "y_pred[y_pred == 1] = 0\n",
    "y_pred[y_pred == -1] = 1\n",
    "\n",
    "# Calculate accuracy of the prediction.\n",
    "accuracy = accuracy_score(y_test, y_pred)\n",
    "print(\"Accuracy:\", accuracy)"
   ]
  },
  {
   "cell_type": "code",
   "execution_count": 7,
   "metadata": {},
   "outputs": [
    {
     "data": {
      "image/png": "[encoded data removed]",
      "text/plain": [
       "<Figure size 800x600 with 2 Axes>"
      ]
     },
     "metadata": {},
     "output_type": "display_data"
    },
    {
     "name": "stdout",
     "output_type": "stream",
     "text": [
      "              precision    recall  f1-score   support\n",
      "\n",
      "           0       0.76      0.98      0.86      3578\n",
      "           1       0.73      0.14      0.23      1280\n",
      "\n",
      "    accuracy                           0.76      4858\n",
      "   macro avg       0.74      0.56      0.54      4858\n",
      "weighted avg       0.75      0.76      0.69      4858\n",
      "\n"
     ]
    },
    {
     "data": {
      "image/png": "[encoded data removed]",
      "text/plain": [
       "<Figure size 640x480 with 1 Axes>"
      ]
     },
     "metadata": {},
     "output_type": "display_data"
    }
   ],
   "source": [
    "cm = confusion_matrix(y_test, y_pred)\n",
    "\n",
    "plt.figure(figsize=(8, 6))\n",
    "\n",
    "for i in range(len(cm)):\n",
    "    for j in range(len(cm[i])):\n",
    "        plt.text(j + 0.5, i + 0.5, str(cm[i][j]), ha='center', va='center')\n",
    "\n",
    "sns.heatmap(cm, annot=False, cmap=\"Blues\", cbar=True)\n",
    "plt.xlabel('Predicted')\n",
    "plt.ylabel('Actual')\n",
    "plt.title('Confusion Matrix')\n",
    "plt.show()\n",
    "\n",
    "print(classification_report(y_test, y_pred))\n",
    "\n",
    "fpr, tpr, thresholds = roc_curve(y_test, y_pred) \n",
    "roc_auc = auc(fpr, tpr)\n",
    "# Plot the ROC curve\n",
    "plt.figure()  \n",
    "plt.plot(fpr, tpr, label='ROC curve (area = %0.2f)' % roc_auc)\n",
    "plt.plot([0, 1], [0, 1], 'k--', label='Baseline')\n",
    "plt.xlim([0.0, 1.0])\n",
    "plt.ylim([0.0, 1.05])\n",
    "plt.xlabel('False Positive Rate')\n",
    "plt.ylabel('True Positive Rate')\n",
    "plt.title('ROC Curve')\n",
    "plt.legend()\n",
    "plt.show()"
   ]
  },
  {
   "cell_type": "code",
   "execution_count": null,
   "metadata": {},
   "outputs": [],
   "source": [
    "import sys\n",
    "sys.path.insert(0, 'C:\\\\Users\\lucas\\Documents\\GitHub\\digital_twin_robot\\projects\\maintenance_industry_4_2024\\supporting_scripts\\WP_1')\n",
    "\n",
    "from functions import *\n",
    "from utility import read_all_test_data_from_path\n",
    "\n",
    "# Specify path to the dictionary.\n",
    "# Define the path to the folder 'collected_data'\n",
    "base_dictionary = '../../dataset/training_data/'\n",
    "# Read all the data\n",
    "df_data = read_all_test_data_from_path(base_dictionary, is_plot = False)"
   ]
  },
  {
   "cell_type": "markdown",
   "metadata": {},
   "source": [
    "# Task 2 Develop a cross validation pipeline to evaluate the performance of the model.\n",
    "\n",
    "The idea of cross validation is to split the data into k subsets and use one of them as the test set and the rest as the training set. The performance of the model is evaluated only on the test dataset, while the model is trained on the training dataset. By doing this, we ensure that the evaluation of the model is independent from the training of the model. Therefore, we can detect if the model is overfitted.\n",
    "\n",
    "## k-fold cross validation\n",
    "\n",
    "Here, we use motor 1 as an example to develop a pipeline for cross validation. Below, you have a script that read the data, extract features and get the labels.\n",
    "\n",
    "1. Use sk-learn to split the data into training and testing sets, using a k-fold cross validation with k=5. (Hint: This is a routine task which can be answered easily by language models like chatgpt. You can try prompt like this: `Generate a code in python to split the data X and y into training and testing sets, using a k-fold cross validation with k=5.`)\n",
    "2. Then, train a basic logistic regression model, without hyper-parameter tuning on the training set, and use the testing set to evaluate the performance of the model (calculate accuracy, precision, recall, and F1 score). \n",
    "3. Finally, train a logistic regression model, but use the entire dataset X and y as training data. Then, use the trained model to predict the labels of the same dataset (X). Compare the results with the previous step, and discuss why we should use cross validation to evaluate the performance of the model."
   ]
  },
  {
   "cell_type": "markdown",
   "metadata": {},
   "source": [
    "1"
   ]
  },
  {
   "cell_type": "code",
   "execution_count": 9,
   "metadata": {},
   "outputs": [],
   "source": [
    "# Smooth the data.\n",
    "window_size = 10\n",
    "\n",
    "smoothed_data = df_data.copy(deep=True)\n",
    "smoothed_data.drop(columns=['time','test_condition'], inplace=True)\n",
    "\n",
    "for i in range(1,7):\n",
    "    smoothed_data[f'data_motor_{i}_voltage'] = smooth_data_moving_average(df_data[f'data_motor_{i}_voltage'], window_size)\n",
    "    \n",
    "#remove outliers-\n",
    "\n",
    "smoothed_no_outliers = remove_outliers(smoothed_data,10)\n",
    "\n",
    "# Get the features\n",
    "\n",
    "drop_list1_label1 = ['data_motor_2_voltage', 'data_motor_3_voltage', 'data_motor_4_voltage', 'data_motor_5_voltage', 'data_motor_6_voltage', 'data_motor_6_position']\n",
    "\n",
    "drop_list2_label1 = ['data_motor_2_voltage', 'data_motor_3_voltage', 'data_motor_4_voltage', 'data_motor_5_voltage', 'data_motor_6_voltage', 'data_motor_6_position','data_motor_2_position','data_motor_3_position','data_motor_4_position','data_motor_5_position','data_motor_2_temperature','data_motor_3_temperature','data_motor_4_temperature','data_motor_6_temperature']\n",
    "\n",
    "#drop_list1_label1 = ['data_motor_1_voltage','data_motor_2_voltage', 'data_motor_3_voltage', 'data_motor_4_voltage', 'data_motor_5_voltage', 'data_motor_6_voltage', 'data_motor_6_position']\n",
    "\n",
    "label_columns = ['data_motor_1_label', 'data_motor_2_label', 'data_motor_3_label', 'data_motor_4_label', 'data_motor_5_label', 'data_motor_6_label']\n",
    "\n",
    "X = smoothed_no_outliers.drop(columns=label_columns+drop_list1_label1)\n",
    "\n",
    "y = smoothed_no_outliers['data_motor_1_label']\n",
    "\n",
    "# Initialize KFold\n",
    "kf = KFold(n_splits=5, shuffle=True, random_state=42)\n",
    "\n",
    "for train_index, test_index in kf.split(X):\n",
    "    X_train_unsampled, X_test = X.iloc[train_index], X.iloc[test_index]\n",
    "    y_train_unsampled, y_test = y.iloc[train_index], y.iloc[test_index]\n",
    "    \n",
    "    ## undersampling \n",
    "    \n",
    "    # Class count\n",
    "    count_class_0, count_class_1 = y_train_unsampled.value_counts()\n",
    "\n",
    "    # Separate majority and minority classes\n",
    "    data_Normal = X_train_unsampled[y_train_unsampled == 0]\n",
    "    data_Failure = X_train_unsampled[y_train_unsampled == 1]\n",
    "\n",
    "    # Undersample majority class\n",
    "    data_Normal_under = data_Normal.sample(count_class_1)\n",
    "    data_under = pd.concat([data_Normal_under, data_Failure], axis=0)\n",
    "    \n",
    "    undersampled_indices = data_under.index\n",
    "\n",
    "    X_train = X_train_unsampled.loc[undersampled_indices]\n",
    "    y_train = y_train_unsampled.loc[undersampled_indices]\n"
   ]
  },
  {
   "cell_type": "markdown",
   "metadata": {},
   "source": [
    "2"
   ]
  },
  {
   "cell_type": "code",
   "execution_count": 10,
   "metadata": {},
   "outputs": [
    {
     "name": "stdout",
     "output_type": "stream",
     "text": [
      "Cross-validation scores: [0.9857894  0.98777715 0.9886299  0.98848778 0.98763502]\n",
      "Mean accuracy: 0.9876638490790537\n"
     ]
    },
    {
     "data": {
      "image/png": "[encoded data removed]",
      "text/plain": [
       "<Figure size 800x600 with 2 Axes>"
      ]
     },
     "metadata": {},
     "output_type": "display_data"
    },
    {
     "name": "stdout",
     "output_type": "stream",
     "text": [
      "              precision    recall  f1-score   support\n",
      "\n",
      "           0       1.00      0.95      0.97      6746\n",
      "           1       0.46      0.99      0.63       290\n",
      "\n",
      "    accuracy                           0.95      7036\n",
      "   macro avg       0.73      0.97      0.80      7036\n",
      "weighted avg       0.98      0.95      0.96      7036\n",
      "\n"
     ]
    },
    {
     "data": {
      "image/png": "[encoded data removed]",
      "text/plain": [
       "<Figure size 640x480 with 1 Axes>"
      ]
     },
     "metadata": {},
     "output_type": "display_data"
    }
   ],
   "source": [
    "from sklearn.exceptions import ConvergenceWarning\n",
    "import warnings\n",
    "\n",
    "# Suppress convergence warnings\n",
    "warnings.filterwarnings(\"ignore\", category=ConvergenceWarning)\n",
    "\n",
    "# Initialize logistic regression model with a higher max_iter value\n",
    "log_reg_model = LogisticRegression(max_iter=1000)\n",
    "\n",
    "# Initialize logistic regression model\n",
    "#log_reg_model = LogisticRegression()\n",
    "\n",
    "# Perform cross-validation\n",
    "cv_scores = cross_val_score(log_reg_model, X, y, cv=kf)\n",
    "\n",
    "# Print the cross-validation scores\n",
    "print(\"Cross-validation scores:\", cv_scores)\n",
    "print(\"Mean accuracy:\", cv_scores.mean())\n",
    "\n",
    "# Train the logistic regression model on the training data\n",
    "log_reg_model.fit(X_train, y_train)\n",
    "\n",
    "# Predict labels for the test data\n",
    "y_pred = log_reg_model.predict(X_test)\n",
    "\n",
    "# Calculate evaluation metrics\n",
    "cm = confusion_matrix(y_test, y_pred)\n",
    "\n",
    "plt.figure(figsize=(8, 6))\n",
    "\n",
    "for i in range(len(cm)):\n",
    "    for j in range(len(cm[i])):\n",
    "        plt.text(j + 0.5, i + 0.5, str(cm[i][j]), ha='center', va='center')\n",
    "\n",
    "sns.heatmap(cm, annot=False, cmap=\"Blues\", cbar=True)\n",
    "plt.xlabel('Predicted')\n",
    "plt.ylabel('Actual')\n",
    "plt.title('Confusion Matrix')\n",
    "plt.show()\n",
    "\n",
    "print(classification_report(y_test, y_pred))\n",
    "\n",
    "fpr, tpr, thresholds = roc_curve(y_test, y_pred) \n",
    "roc_auc = auc(fpr, tpr)\n",
    "# Plot the ROC curve\n",
    "plt.figure()  \n",
    "plt.plot(fpr, tpr, label='ROC curve (area = %0.2f)' % roc_auc)\n",
    "plt.plot([0, 1], [0, 1], 'k--', label='Baseline')\n",
    "plt.xlim([0.0, 1.0])\n",
    "plt.ylim([0.0, 1.05])\n",
    "plt.xlabel('False Positive Rate')\n",
    "plt.ylabel('True Positive Rate')\n",
    "plt.title('ROC Curve')\n",
    "plt.legend()\n",
    "plt.show()"
   ]
  },
  {
   "cell_type": "markdown",
   "metadata": {},
   "source": [
    "3"
   ]
  },
  {
   "cell_type": "code",
   "execution_count": 11,
   "metadata": {},
   "outputs": [
    {
     "data": {
      "image/png": "[encoded data removed]",
      "text/plain": [
       "<Figure size 800x600 with 2 Axes>"
      ]
     },
     "metadata": {},
     "output_type": "display_data"
    },
    {
     "name": "stdout",
     "output_type": "stream",
     "text": [
      "              precision    recall  f1-score   support\n",
      "\n",
      "           0       0.97      0.99      0.98     33839\n",
      "           1       0.59      0.27      0.37      1342\n",
      "\n",
      "    accuracy                           0.97     35181\n",
      "   macro avg       0.78      0.63      0.68     35181\n",
      "weighted avg       0.96      0.97      0.96     35181\n",
      "\n"
     ]
    },
    {
     "data": {
      "image/png": "[encoded data removed]",
      "text/plain": [
       "<Figure size 640x480 with 1 Axes>"
      ]
     },
     "metadata": {},
     "output_type": "display_data"
    }
   ],
   "source": [
    "# Train a logistic regression model on the entire dataset\n",
    "log_reg_model_full = LogisticRegression()\n",
    "log_reg_model_full.fit(X, y)\n",
    "\n",
    "# Predict labels for the entire dataset\n",
    "y_pred_full = log_reg_model_full.predict(X)\n",
    "\n",
    "# Calculate evaluation metrics\n",
    "cm = confusion_matrix(y, y_pred_full)\n",
    "\n",
    "plt.figure(figsize=(8, 6))\n",
    "\n",
    "for i in range(len(cm)):\n",
    "    for j in range(len(cm[i])):\n",
    "        plt.text(j + 0.5, i + 0.5, str(cm[i][j]), ha='center', va='center')\n",
    "\n",
    "sns.heatmap(cm, annot=False, cmap=\"Blues\", cbar=True)\n",
    "plt.xlabel('Predicted')\n",
    "plt.ylabel('Actual')\n",
    "plt.title('Confusion Matrix')\n",
    "plt.show()\n",
    "\n",
    "print(classification_report(y, y_pred_full))\n",
    "\n",
    "fpr, tpr, thresholds = roc_curve(y, y_pred_full) \n",
    "roc_auc = auc(fpr, tpr)\n",
    "# Plot the ROC curve\n",
    "plt.figure()  \n",
    "plt.plot(fpr, tpr, label='ROC curve (area = %0.2f)' % roc_auc)\n",
    "plt.plot([0, 1], [0, 1], 'k--', label='Baseline')\n",
    "plt.xlim([0.0, 1.0])\n",
    "plt.ylim([0.0, 1.05])\n",
    "plt.xlabel('False Positive Rate')\n",
    "plt.ylabel('True Positive Rate')\n",
    "plt.title('ROC Curve')\n",
    "plt.legend()\n",
    "plt.show()"
   ]
  },
  {
   "cell_type": "markdown",
   "metadata": {},
   "source": [
    "Write your discussions here:\n"
   ]
  },
  {
   "cell_type": "markdown",
   "metadata": {},
   "source": [
    "not splitting the data can lead to overly optimistic performance estimates, as the model may inadvertently memorize the training data, making it less reliable when applied to new, unseen instances."
   ]
  },
  {
   "cell_type": "markdown",
   "metadata": {},
   "source": [
    "# Task 3: Develop classification-based fault detection models\n",
    "\n",
    "In this task, you are supposed to experiment different classification-based fault detection models to get best F1 score. Please use the 5-fold cross-validation to calculate the best F1 score. You are free to try different models, whether they are discussed in the class or not. To simply your work, you can use the models existed in [scikit-learn](https://scikit-learn.org/stable/supervised_learning.html).\n",
    "\n",
    "Please report all the models you tried, how to you tune their hyperparameters, and the corresponding F1 score. Please note that if you would like to tune the hyperparameter, you can use the `GridSearchCv` function in scikit-learn, but you should use it only on the training dataset."
   ]
  },
  {
   "cell_type": "markdown",
   "metadata": {},
   "source": [
    "## Logistic regression"
   ]
  },
  {
   "cell_type": "code",
   "execution_count": 12,
   "metadata": {},
   "outputs": [],
   "source": [
    "# Your code here:"
   ]
  },
  {
   "cell_type": "code",
   "execution_count": 13,
   "metadata": {},
   "outputs": [],
   "source": [
    "# Initialize models\n",
    "models = {\n",
    "    'Logistic Regression': LogisticRegression(),\n",
    "    'Decision Tree': DecisionTreeClassifier(),\n",
    "    'Random Forest': RandomForestClassifier(),\n",
    "    'Support Vector Machine': SVC(),\n",
    "    'Gradient Boosting': GradientBoostingClassifier()\n",
    "}\n",
    "\n",
    "# Dictionary to store model performance metrics\n",
    "model_metrics = {}\n",
    "\n",
    "# Define hyperparameter grids\n",
    "param_grids = {\n",
    "    'Logistic Regression': {'C': [0.1, 1, 10]},\n",
    "    'Decision Tree': {'max_depth': [None, 10, 20]},\n",
    "    'Random Forest': {'n_estimators': [50, 100, 200]},\n",
    "    'Support Vector Machine': {'C': [0.1, 1, 10], 'gamma': ['scale', 'auto']},\n",
    "    'Gradient Boosting': {'n_estimators': [50, 100, 200], 'learning_rate': [0.1, 0.5, 1.0]}\n",
    "}\n",
    "\n",
    "# Perform cross-validation, hyperparameter tuning, and evaluation\n",
    "for model_name, model in models.items():\n",
    "    \n",
    "    # Hyperparameter tuning\n",
    "    grid_search = GridSearchCV(model, param_grids[model_name], cv=5, scoring='f1')\n",
    "    grid_search.fit(X_train, y_train)\n",
    "    best_model = grid_search.best_estimator_\n",
    "    \n",
    "    # Evaluate on test set\n",
    "    y_pred = best_model.predict(X_test)\n",
    "    \n",
    "    # Calculate metrics\n",
    "    accuracy = accuracy_score(y_test, y_pred)\n",
    "    precision = precision_score(y_test, y_pred)\n",
    "    recall = recall_score(y_test, y_pred)\n",
    "    f1 = f1_score(y_test, y_pred)\n",
    "    \n",
    "    # Store metrics in the dictionary\n",
    "    model_metrics[model_name] = {\n",
    "        'Accuracy': accuracy,\n",
    "        'Precision': precision,\n",
    "        'Recall': recall,\n",
    "        'F1': f1\n",
    "    }"
   ]
  },
  {
   "cell_type": "markdown",
   "metadata": {},
   "source": [
    "## Summary of the results\n",
    "\n",
    "Please add a table in the end, summarying the results from all the models (including the unsupervised learning models). Please write a few texts to explain what is the best model you got, its performance, and how could you further improve it.\n",
    "\n",
    "| Model                    | Accuracy | Precision | Recall | F1    |\n",
    "|--------------------------|----------|-----------|--------|-------|\n",
    "| Logistic Regression       | 90.52%   | 30.26%   | 99.66%  | 46.43% |\n",
    "| Decision Tree             | 99.52%   | 89.51%   | 100.00%  | 94.46% |\n",
    "| Random Forest             | 99.53%   | 89.78%   | 100.00%  | 94.62% |\n",
    "| Support Vector Machine    | 78.70%   | 14.25%   | 83.10%  | 24.33% |\n",
    "| Gradient Boosting         | 99.63%   | 92.04%   | 99.66%  | 95.70% |\n",
    "\n"
   ]
  },
  {
   "cell_type": "code",
   "execution_count": 14,
   "metadata": {},
   "outputs": [
    {
     "name": "stdout",
     "output_type": "stream",
     "text": [
      "| Model                    | Accuracy | Precision | Recall | F1    |\n",
      "|--------------------------|----------|-----------|--------|-------|\n",
      "| Logistic Regression       | 90.52%   | 30.26%   | 99.66%  | 46.43% |\n",
      "| Decision Tree             | 99.52%   | 89.51%   | 100.00%  | 94.46% |\n",
      "| Random Forest             | 99.53%   | 89.78%   | 100.00%  | 94.62% |\n",
      "| Support Vector Machine    | 78.70%   | 14.25%   | 83.10%  | 24.33% |\n",
      "| Gradient Boosting         | 99.63%   | 92.04%   | 99.66%  | 95.70% |\n",
      "\n"
     ]
    }
   ],
   "source": [
    "# Update the summary table with the model performance metrics\n",
    "summary_table = \"| Model                    | Accuracy | Precision | Recall | F1    |\\n\"\n",
    "summary_table += \"|--------------------------|----------|-----------|--------|-------|\\n\"\n",
    "for model_name, metrics in model_metrics.items():\n",
    "    summary_table += f\"| {model_name:25} | {metrics['Accuracy']*100:.2f}%   | {metrics['Precision']*100:.2f}%   | {metrics['Recall']*100:.2f}%  | {metrics['F1']*100:.2f}% |\\n\"\n",
    "\n",
    "print(summary_table)"
   ]
  },
  {
   "cell_type": "markdown",
   "metadata": {},
   "source": [
    "### Use the demo_motor_6 to avoid have the same sequence in the train and in the test (There will be another table summarizing the results using demo 6 at the end)"
   ]
  },
  {
   "cell_type": "code",
   "execution_count": null,
   "metadata": {},
   "outputs": [],
   "source": [
    "n_int = 20\n",
    "\n",
    "# Subfunction for data preprocessing.\n",
    "def pre_processing(df: pd.DataFrame):\n",
    "    ''' ### Description\n",
    "    Preprocess the data:\n",
    "    - remove outliers\n",
    "    - add new features about the difference between the current and previous n data point.\n",
    "    '''\n",
    "    \n",
    "    def remove_outliers(df: pd.DataFrame):\n",
    "        ''' # Description\n",
    "        Remove outliers from the dataframe based on defined valid ranges. \n",
    "        Define a valid range of temperature and voltage. \n",
    "        Use ffil function to replace the invalid measurement with the previous value.\n",
    "        '''\n",
    "        df['temperature'] = df['temperature'].where(df['temperature'] <= 100, np.nan)\n",
    "        df['temperature'] = df['temperature'].where(df['temperature'] >= 0, np.nan)\n",
    "        df['temperature'] = df['temperature'].ffill()        \n",
    "\n",
    "        df['voltage'] = df['voltage'].where(df['voltage'] >= 6000, np.nan)\n",
    "        df['voltage'] = df['voltage'].where(df['voltage'] <= 9000, np.nan)\n",
    "        df['voltage'] = df['voltage'].ffill()        \n",
    "\n",
    "        df['position'] = df['position'].where(df['position'] >= 0, np.nan)\n",
    "        df['position'] = df['position'].where(df['position'] <= 1000, np.nan)\n",
    "        df['position'] = df['position'].ffill()\n",
    "\n",
    "\n",
    "    def cal_diff(df: pd.DataFrame, n_int: int):\n",
    "        ''' # Description\n",
    "        Calculate the difference between the current and previous n data point.\n",
    "        '''\n",
    "        # Tranform the features relative to the first data point.\n",
    "        df['temperature'] = df['temperature'] - df['temperature'].iloc[0]\n",
    "        df['voltage'] = df['voltage'] - df['voltage'].iloc[0]\n",
    "        df['position'] = df['position'] - df['position'].iloc[0]\n",
    "\n",
    "        # Calculate the difference between the current and previous n data point.\n",
    "        df['temperature_diff'] = df['temperature'].diff(n_int)\n",
    "        df['voltage_diff'] = df['voltage'].diff(n_int)\n",
    "        df['position_diff'] = df['position'].diff(n_int)   \n",
    "\n",
    "    # Start processing.\n",
    "    remove_outliers(df)\n",
    "    cal_diff(df, n_int)\n",
    "    \n",
    "# Read all the dataset.\n",
    "base_dictionary = '../../dataset/training_data/'\n",
    "df_data = read_all_test_data_from_path(base_dictionary, pre_processing, is_plot=False)"
   ]
  },
  {
   "cell_type": "code",
   "execution_count": 41,
   "metadata": {},
   "outputs": [],
   "source": [
    "# Ignore warnings.\n",
    "warnings.filterwarnings('ignore')\n",
    "\n",
    "logistic_steps = [\n",
    "    ('Normalizer', MinMaxScaler()),\n",
    "    ('mdl', LogisticRegression(class_weight='balanced'))\n",
    "]\n",
    "logistic_pipeline = Pipeline(logistic_steps)\n",
    "logistic_param_grid = {\n",
    "    'mdl__C': [0.01, 0.1, 1, 10]\n",
    "}\n",
    "\n",
    "tree_pipeline = Pipeline([\n",
    "    ('mdl', DecisionTreeClassifier(class_weight='balanced'))\n",
    "])\n",
    "tree_param_grid = {\n",
    "    'mdl__max_depth': [10, 20, 30],\n",
    "    'mdl__min_samples_split': [2, 10]\n",
    "}\n",
    "\n",
    "svm_steps = [\n",
    "    ('Normalizer', MinMaxScaler()),\n",
    "    ('mdl', SVC(class_weight='balanced'))\n",
    "]\n",
    "svm_pipeline = Pipeline(svm_steps)\n",
    "\n",
    "gb_pipeline = Pipeline([\n",
    "    ('mdl', GradientBoostingClassifier())\n",
    "])\n",
    "gb_param_grid = {\n",
    "    'mdl__n_estimators': [25,50],\n",
    "    'mdl__learning_rate': [0.1,1],\n",
    "    'mdl__max_depth': [5,7]\n",
    "}\n",
    "\n",
    "# Initialize GridSearchCV for each model\n",
    "models = [\n",
    "    ('Logistic Regression', logistic_pipeline, logistic_param_grid),\n",
    "    ('Decision Tree', tree_pipeline, tree_param_grid),\n",
    "    ('Support Vector Machine', svm_pipeline, {}),\n",
    "    ('Gradient Boosting', gb_pipeline, gb_param_grid)\n",
    "]"
   ]
  },
  {
   "cell_type": "code",
   "execution_count": 36,
   "metadata": {},
   "outputs": [],
   "source": [
    "from utility2 import run_cv_one_motor\n",
    "\n",
    "# Smooth the data.\n",
    "\n",
    "smoothed_data = df_data.copy(deep=True)\n",
    "\n",
    "for i in range(1,7):\n",
    "    smoothed_data[f'data_motor_{i}_voltage'] = smooth_data_moving_average(smoothed_data[f'data_motor_{i}_voltage'],10)\n",
    "\n",
    "# Specify the test conditions you would like to include in the test.\n",
    "df_data_experiment = smoothed_data[smoothed_data['test_condition'].isin(['20240425_093699', '20240425_094425', '20240426_140055',\n",
    "                                                       '20240503_164675', '20240503_165189',\n",
    "                                                       '20240503_163963', '20240325_155003'])]\n",
    "# We want a five-fold cross validation.\n",
    "n_cv = 7\n",
    "# Define the features. The features were chosen based on the violin plot\n",
    "feature_list_selected = ['time','data_motor_1_position',  'data_motor_1_temperature', \n",
    "                    'data_motor_2_position',  \n",
    "                    'data_motor_3_position',  \n",
    "                    'data_motor_4_position', 'data_motor_4_temperature',\n",
    "                    'data_motor_5_position', 'data_motor_5_temperature',\n",
    "                    'data_motor_6_position', 'data_motor_6_temperature', \n",
    "                    'data_motor_1_position_diff', 'data_motor_1_temperature_diff', \n",
    "                    'data_motor_2_position_diff',  \n",
    "                    'data_motor_3_position_diff',  \n",
    "                    'data_motor_4_position_diff', 'data_motor_4_temperature_diff', \n",
    "                    'data_motor_5_position_diff', 'data_motor_5_temperature_diff', \n",
    "                    'data_motor_6_position_diff', 'data_motor_6_temperature_diff',\n",
    "                    'data_motor_1_voltage','data_motor_2_voltage','data_motor_3_voltage','data_motor_5_voltage',\n",
    "                    'data_motor_1_voltage_diff','data_motor_2_voltage_diff','data_motor_3_voltage_diff','data_motor_5_voltage_diff','data_motor_6_voltage_diff']\n",
    "window_size = 100\n",
    "sample_step = 50"
   ]
  },
  {
   "cell_type": "code",
   "execution_count": 37,
   "metadata": {},
   "outputs": [
    {
     "name": "stdout",
     "output_type": "stream",
     "text": [
      "Running model: Logistic Regression\n",
      "Model for motor 6:\n",
      "   Accuracy  Precision    Recall  F1 score\n",
      "0  0.285213   0.047227  0.342488  0.083007\n",
      "1  0.681818   0.704082  0.841463  0.766667\n",
      "2  0.900217   1.000000  0.643411  0.783019\n",
      "3  0.916402   0.000000  0.000000  0.000000\n",
      "4  0.557143   0.410334  0.778098  0.537313\n",
      "5  0.936000   0.960905  0.972917  0.966874\n",
      "6  0.467552   0.333333  0.702830  0.452200\n",
      "\n",
      "\n",
      "Mean performance metric and standard error:\n",
      "Accuracy: 0.6778 +- 0.2536\n",
      "Precision: 0.4937 +- 0.4071\n",
      "Recall: 0.6116 +- 0.3334\n",
      "F1 score: 0.5127 +- 0.3641\n",
      "\n",
      "\n",
      "Running model: Decision Tree\n",
      "Model for motor 6:\n",
      "   Accuracy  Precision    Recall  F1 score\n",
      "0  0.424233   0.005643  0.029079  0.009451\n",
      "1  0.378788   0.000000  0.000000  0.000000\n",
      "2  0.720174   0.000000  0.000000  0.000000\n",
      "3  0.933333   0.000000  0.000000  0.000000\n",
      "4  0.736190   0.690217  0.365994  0.478343\n",
      "5  0.650000   0.944606  0.675000  0.787363\n",
      "6  0.687316   0.000000  0.000000  0.000000\n",
      "\n",
      "\n",
      "Mean performance metric and standard error:\n",
      "Accuracy: 0.6471 +- 0.1908\n",
      "Precision: 0.2344 +- 0.4050\n",
      "Recall: 0.1529 +- 0.2667\n",
      "F1 score: 0.1822 +- 0.3206\n",
      "\n",
      "\n",
      "Running model: Support Vector Machine\n",
      "Model for motor 6:\n",
      "   Accuracy  Precision    Recall  F1 score\n",
      "0  0.921715   0.747664  0.258481  0.384154\n",
      "1  0.621212   0.621212  1.000000  0.766355\n",
      "2  0.913232   1.000000  0.689922  0.816514\n",
      "3  0.933333   0.000000  0.000000  0.000000\n",
      "4  0.600000   0.420824  0.559078  0.480198\n",
      "5  0.960000   0.960000  1.000000  0.979592\n",
      "6  0.697640   1.000000  0.033019  0.063927\n",
      "\n",
      "\n",
      "Mean performance metric and standard error:\n",
      "Accuracy: 0.8067 +- 0.1598\n",
      "Precision: 0.6785 +- 0.3699\n",
      "Recall: 0.5058 +- 0.4215\n",
      "F1 score: 0.4987 +- 0.3775\n",
      "\n",
      "\n",
      "Running model: Gradient Boosting\n",
      "Model for motor 6:\n",
      "   Accuracy  Precision    Recall  F1 score\n",
      "0  0.896231   0.000000  0.000000  0.000000\n",
      "1  0.666667   0.750000  0.695122  0.721519\n",
      "2  0.830803   1.000000  0.395349  0.566667\n",
      "3  0.933333   0.000000  0.000000  0.000000\n",
      "4  0.739048   0.575884  0.798271  0.669082\n",
      "5  0.194000   1.000000  0.160417  0.276481\n",
      "6  0.687316   0.000000  0.000000  0.000000\n",
      "\n",
      "\n",
      "Mean performance metric and standard error:\n",
      "Accuracy: 0.7068 +- 0.2478\n",
      "Precision: 0.4751 +- 0.4680\n",
      "Recall: 0.2927 +- 0.3422\n",
      "F1 score: 0.3191 +- 0.3299\n",
      "\n",
      "\n",
      "                    Model  Mean Accuracy  Mean Precision  Mean Recall  \\\n",
      "0     Logistic Regression       0.677764        0.493697     0.611601   \n",
      "1           Decision Tree       0.647148        0.234352     0.152868   \n",
      "2  Support Vector Machine       0.806733        0.678529     0.505786   \n",
      "3       Gradient Boosting       0.706771        0.475126     0.292737   \n",
      "\n",
      "   Mean F1 score  \n",
      "0       0.512726  \n",
      "1       0.182165  \n",
      "2       0.498677  \n",
      "3       0.319107  \n"
     ]
    }
   ],
   "source": [
    "results = {}\n",
    "final_results = []\n",
    "best_params = {}\n",
    "\n",
    "for model_name, pipeline, param_grid in models:\n",
    "    print(f'Running model: {model_name}')\n",
    "    grid_search = GridSearchCV(estimator=pipeline, param_grid=param_grid, scoring='f1', cv=5)\n",
    "    df_perf = run_cv_one_motor(\n",
    "        motor_idx=6, df_data=df_data_experiment, mdl=grid_search, \n",
    "        feature_list=feature_list_selected, n_fold=n_cv, \n",
    "        window_size=window_size, sample_step=sample_step, \n",
    "        single_run_result=False\n",
    "    )\n",
    "    results[model_name] = df_perf\n",
    "    \n",
    "    # Store the mean performance in the final results\n",
    "    final_results.append({\n",
    "        'Model': model_name,\n",
    "        **{f'Mean {col}': df_perf[col].mean() for col in df_perf.columns}\n",
    "    })\n",
    "    \n",
    "    if param_grid:  # Save best parameters only if there was a grid search\n",
    "        best_params[model_name] = grid_search.best_params_"
   ]
  },
  {
   "cell_type": "code",
   "execution_count": 40,
   "metadata": {},
   "outputs": [
    {
     "data": {
      "text/html": [
       "<div>\n",
       "<style scoped>\n",
       "    .dataframe tbody tr th:only-of-type {\n",
       "        vertical-align: middle;\n",
       "    }\n",
       "\n",
       "    .dataframe tbody tr th {\n",
       "        vertical-align: top;\n",
       "    }\n",
       "\n",
       "    .dataframe thead th {\n",
       "        text-align: right;\n",
       "    }\n",
       "</style>\n",
       "<table border=\"1\" class=\"dataframe\">\n",
       "  <thead>\n",
       "    <tr style=\"text-align: right;\">\n",
       "      <th></th>\n",
       "      <th>Model</th>\n",
       "      <th>Mean Accuracy</th>\n",
       "      <th>Mean Precision</th>\n",
       "      <th>Mean Recall</th>\n",
       "      <th>Mean F1 score</th>\n",
       "    </tr>\n",
       "  </thead>\n",
       "  <tbody>\n",
       "    <tr>\n",
       "      <th>0</th>\n",
       "      <td>Logistic Regression</td>\n",
       "      <td>0.677764</td>\n",
       "      <td>0.493697</td>\n",
       "      <td>0.611601</td>\n",
       "      <td>0.512726</td>\n",
       "    </tr>\n",
       "    <tr>\n",
       "      <th>1</th>\n",
       "      <td>Decision Tree</td>\n",
       "      <td>0.647148</td>\n",
       "      <td>0.234352</td>\n",
       "      <td>0.152868</td>\n",
       "      <td>0.182165</td>\n",
       "    </tr>\n",
       "    <tr>\n",
       "      <th>2</th>\n",
       "      <td>Support Vector Machine</td>\n",
       "      <td>0.806733</td>\n",
       "      <td>0.678529</td>\n",
       "      <td>0.505786</td>\n",
       "      <td>0.498677</td>\n",
       "    </tr>\n",
       "    <tr>\n",
       "      <th>3</th>\n",
       "      <td>Gradient Boosting</td>\n",
       "      <td>0.706771</td>\n",
       "      <td>0.475126</td>\n",
       "      <td>0.292737</td>\n",
       "      <td>0.319107</td>\n",
       "    </tr>\n",
       "  </tbody>\n",
       "</table>\n",
       "</div>"
      ],
      "text/plain": [
       "                    Model  Mean Accuracy  Mean Precision  Mean Recall  \\\n",
       "0     Logistic Regression       0.677764        0.493697     0.611601   \n",
       "1           Decision Tree       0.647148        0.234352     0.152868   \n",
       "2  Support Vector Machine       0.806733        0.678529     0.505786   \n",
       "3       Gradient Boosting       0.706771        0.475126     0.292737   \n",
       "\n",
       "   Mean F1 score  \n",
       "0       0.512726  \n",
       "1       0.182165  \n",
       "2       0.498677  \n",
       "3       0.319107  "
      ]
     },
     "execution_count": 40,
     "metadata": {},
     "output_type": "execute_result"
    }
   ],
   "source": [
    "df_final_results = pd.DataFrame(final_results)\n",
    "df_final_results\n"
   ]
  },
  {
   "cell_type": "code",
   "execution_count": 39,
   "metadata": {},
   "outputs": [
    {
     "data": {
      "text/plain": [
       "{'mdl__learning_rate': 0.1, 'mdl__max_depth': 5, 'mdl__n_estimators': 50}"
      ]
     },
     "execution_count": 39,
     "metadata": {},
     "output_type": "execute_result"
    }
   ],
   "source": [
    "grid_search.best_params_"
   ]
  },
  {
   "cell_type": "markdown",
   "metadata": {},
   "source": [
    "The support vector machine was the model with the best result. Now let's split up the operations: "
   ]
  },
  {
   "cell_type": "markdown",
   "metadata": {},
   "source": [
    "# Seperate operation mode"
   ]
  },
  {
   "cell_type": "code",
   "execution_count": 17,
   "metadata": {},
   "outputs": [],
   "source": [
    "from utility import run_cv_one_motor\n",
    "\n",
    "\n",
    "# Define a function to run experiment.\n",
    "def run_experiment(motor_id, df_data, mdl, window_size=1, sample_step=1, n_fold=5):\n",
    "    print(f'window_size={window_size}, sample_step={sample_step}, all the features.')\n",
    "    feature_list_all = ['time','data_motor_1_position',  'data_motor_1_temperature', \n",
    "                    'data_motor_2_position',  \n",
    "                    'data_motor_3_position',  \n",
    "                    'data_motor_4_position', 'data_motor_4_temperature',\n",
    "                    'data_motor_5_position', 'data_motor_5_temperature',\n",
    "                    'data_motor_6_position', 'data_motor_6_temperature', \n",
    "                    'data_motor_1_position_diff', 'data_motor_1_temperature_diff', \n",
    "                    'data_motor_2_position_diff',  \n",
    "                    'data_motor_3_position_diff',  \n",
    "                    'data_motor_4_position_diff', 'data_motor_4_temperature_diff', \n",
    "                    'data_motor_5_position_diff', 'data_motor_5_temperature_diff', \n",
    "                    'data_motor_6_position_diff', 'data_motor_6_temperature_diff',\n",
    "                    'data_motor_1_voltage','data_motor_2_voltage','data_motor_3_voltage','data_motor_5_voltage',\n",
    "                    'data_motor_1_voltage_diff','data_motor_2_voltage_diff','data_motor_3_voltage_diff','data_motor_5_voltage_diff','data_motor_6_voltage_diff']\n",
    "    _ = run_cv_one_motor(motor_id, df_data, mdl, feature_list_all, n_fold=n_fold, window_size=window_size, \n",
    "        sample_step=sample_step, single_run_result=False, mdl_type='clf')\n",
    "\n",
    "    print(f'window_size={window_size}, sample_step={sample_step}, randomly pick features.')\n",
    "    feature_list_self = ['time', 'data_motor_6_position', 'data_motor_6_temperature', \n",
    "                        'data_motor_5_position', 'data_motor_4_position', 'data_motor_3_position', 'data_motor_2_position', 'data_motor_1_position']\n",
    "    _ = run_cv_one_motor(motor_id, df_data, mdl, feature_list_self, n_fold=n_fold, window_size=window_size, \n",
    "        sample_step=sample_step, single_run_result=False, mdl_type='clf')"
   ]
  },
  {
   "cell_type": "markdown",
   "metadata": {},
   "source": [
    "## Not moving"
   ]
  },
  {
   "cell_type": "code",
   "execution_count": 43,
   "metadata": {},
   "outputs": [],
   "source": [
    "# Not moving\n",
    "df_data_mode = df_data[df_data['test_condition'].isin(['20240425_093699', '20240425_094425', '20240426_140055'])]\n",
    "n_cv = 3"
   ]
  },
  {
   "cell_type": "markdown",
   "metadata": {},
   "source": [
    "Windowsize = 1."
   ]
  },
  {
   "cell_type": "code",
   "execution_count": 46,
   "metadata": {},
   "outputs": [
    {
     "name": "stdout",
     "output_type": "stream",
     "text": [
      "---------------Running experiments for Logistic Regression:---------------\n",
      "window_size=1, sample_step=1, all the features.\n",
      "Model for motor 6:\n",
      "   Accuracy  Precision    Recall  F1 score\n",
      "0  0.939394   0.935897  0.890244  0.912500\n",
      "1  0.885714   0.773109  0.713178  0.741935\n",
      "2  0.060345   0.060345  1.000000  0.113821\n",
      "\n",
      "\n",
      "Mean performance metric and standard error:\n",
      "Accuracy: 0.6285 +- 0.4928\n",
      "Precision: 0.5898 +- 0.4657\n",
      "Recall: 0.8678 +- 0.1447\n",
      "F1 score: 0.5894 +- 0.4206\n",
      "\n",
      "\n",
      "window_size=1, sample_step=1, randomly pick features.\n",
      "Model for motor 6:\n",
      "   Accuracy  Precision    Recall  F1 score\n",
      "0  0.948052   0.960526  0.890244  0.924051\n",
      "1  0.896429   0.814159  0.713178  0.760331\n",
      "2  0.060345   0.060345  1.000000  0.113821\n",
      "\n",
      "\n",
      "Mean performance metric and standard error:\n",
      "Accuracy: 0.6349 +- 0.4983\n",
      "Precision: 0.6117 +- 0.4830\n",
      "Recall: 0.8678 +- 0.1447\n",
      "F1 score: 0.5994 +- 0.4284\n",
      "\n",
      "\n",
      "---------------Running experiments for Decision Tree:---------------\n",
      "window_size=1, sample_step=1, all the features.\n",
      "Model for motor 6:\n",
      "   Accuracy  Precision    Recall  F1 score\n",
      "0  0.961039        1.0  0.890244  0.941935\n",
      "1  0.928571        1.0  0.689922  0.816514\n",
      "2  0.973180        1.0  0.555556  0.714286\n",
      "\n",
      "\n",
      "Mean performance metric and standard error:\n",
      "Accuracy: 0.9543 +- 0.0231\n",
      "Precision: 1.0000 +- 0.0000\n",
      "Recall: 0.7119 +- 0.1684\n",
      "F1 score: 0.8242 +- 0.1140\n",
      "\n",
      "\n",
      "window_size=1, sample_step=1, randomly pick features.\n",
      "Model for motor 6:\n",
      "   Accuracy  Precision    Recall  F1 score\n",
      "0  0.961039        1.0  0.890244  0.941935\n",
      "1  0.928571        1.0  0.689922  0.816514\n",
      "2  0.973180        1.0  0.555556  0.714286\n",
      "\n",
      "\n",
      "Mean performance metric and standard error:\n",
      "Accuracy: 0.9543 +- 0.0231\n",
      "Precision: 1.0000 +- 0.0000\n",
      "Recall: 0.7119 +- 0.1684\n",
      "F1 score: 0.8242 +- 0.1140\n",
      "\n",
      "\n",
      "---------------Running experiments for Support Vector Machine:---------------\n",
      "window_size=1, sample_step=1, all the features.\n",
      "Model for motor 6:\n",
      "   Accuracy  Precision    Recall  F1 score\n",
      "0  0.891775   1.000000  0.695122  0.820144\n",
      "1  0.878571   0.747967  0.713178  0.730159\n",
      "2  0.939655   0.000000  0.000000  0.000000\n",
      "\n",
      "\n",
      "Mean performance metric and standard error:\n",
      "Accuracy: 0.9033 +- 0.0321\n",
      "Precision: 0.5827 +- 0.5201\n",
      "Recall: 0.4694 +- 0.4066\n",
      "F1 score: 0.5168 +- 0.4498\n",
      "\n",
      "\n",
      "window_size=1, sample_step=1, randomly pick features.\n",
      "Model for motor 6:\n",
      "   Accuracy  Precision    Recall  F1 score\n",
      "0  0.848485        1.0  0.573171  0.728682\n",
      "1  0.928571        1.0  0.689922  0.816514\n",
      "2  0.939655        0.0  0.000000  0.000000\n",
      "\n",
      "\n",
      "Mean performance metric and standard error:\n",
      "Accuracy: 0.9056 +- 0.0497\n",
      "Precision: 0.6667 +- 0.5774\n",
      "Recall: 0.4210 +- 0.3693\n",
      "F1 score: 0.5151 +- 0.4482\n",
      "\n",
      "\n"
     ]
    }
   ],
   "source": [
    "print(\"---------------Running experiments for Logistic Regression:---------------\")\n",
    "run_experiment(motor_id=6, df_data=df_data_mode, mdl=logistic_pipeline, n_fold=n_cv)\n",
    "\n",
    "print(\"---------------Running experiments for Decision Tree:---------------\")\n",
    "run_experiment(motor_id=6, df_data=df_data_mode, mdl=tree_pipeline, n_fold=n_cv)\n",
    "\n",
    "print(\"---------------Running experiments for Support Vector Machine:---------------\")\n",
    "run_experiment(motor_id=6, df_data=df_data_mode, mdl=svm_pipeline, n_fold=n_cv)"
   ]
  },
  {
   "cell_type": "markdown",
   "metadata": {},
   "source": [
    "Windowsize = 50."
   ]
  },
  {
   "cell_type": "code",
   "execution_count": 49,
   "metadata": {},
   "outputs": [
    {
     "name": "stdout",
     "output_type": "stream",
     "text": [
      "---------------Running experiments for Logistic Regression:---------------\n",
      "window_size=50, sample_step=10, all the features.\n",
      "Model for motor 6:\n",
      "   Accuracy  Precision    Recall  F1 score\n",
      "0  0.824176   0.727273  0.975610  0.833333\n",
      "1  0.884540   1.000000  0.542636  0.703518\n",
      "2  0.063317   0.063317  1.000000  0.119093\n",
      "\n",
      "\n",
      "Mean performance metric and standard error:\n",
      "Accuracy: 0.5907 +- 0.4577\n",
      "Precision: 0.5969 +- 0.4818\n",
      "Recall: 0.8394 +- 0.2573\n",
      "F1 score: 0.5520 +- 0.3805\n",
      "\n",
      "\n",
      "window_size=50, sample_step=10, randomly pick features.\n",
      "Model for motor 6:\n",
      "   Accuracy  Precision    Recall  F1 score\n",
      "0  0.873626   0.792079  0.975610  0.874317\n",
      "1  0.921722   1.000000  0.689922  0.816514\n",
      "2  0.063317   0.063317  1.000000  0.119093\n",
      "\n",
      "\n",
      "Mean performance metric and standard error:\n",
      "Accuracy: 0.6196 +- 0.4823\n",
      "Precision: 0.6185 +- 0.4919\n",
      "Recall: 0.8885 +- 0.1724\n",
      "F1 score: 0.6033 +- 0.4203\n",
      "\n",
      "\n",
      "---------------Running experiments for Decision Tree:---------------\n",
      "window_size=50, sample_step=10, all the features.\n",
      "Model for motor 6:\n",
      "   Accuracy  Precision    Recall  F1 score\n",
      "0  0.873626   0.792079  0.975610  0.874317\n",
      "1  0.935421   0.936364  0.798450  0.861925\n",
      "2  0.981910   0.881356  0.825397  0.852459\n",
      "\n",
      "\n",
      "Mean performance metric and standard error:\n",
      "Accuracy: 0.9303 +- 0.0543\n",
      "Precision: 0.8699 +- 0.0728\n",
      "Recall: 0.8665 +- 0.0955\n",
      "F1 score: 0.8629 +- 0.0110\n",
      "\n",
      "\n",
      "window_size=50, sample_step=10, randomly pick features.\n",
      "Model for motor 6:\n",
      "   Accuracy  Precision    Recall  F1 score\n",
      "0  0.873626   0.792079  0.975610  0.874317\n",
      "1  0.894325   0.864078  0.689922  0.767241\n",
      "2  0.983920   0.861538  0.888889  0.875000\n",
      "\n",
      "\n",
      "Mean performance metric and standard error:\n",
      "Accuracy: 0.9173 +- 0.0586\n",
      "Precision: 0.8392 +- 0.0409\n",
      "Recall: 0.8515 +- 0.1465\n",
      "F1 score: 0.8389 +- 0.0620\n",
      "\n",
      "\n",
      "---------------Running experiments for Support Vector Machine:---------------\n",
      "window_size=50, sample_step=10, all the features.\n",
      "Model for motor 6:\n",
      "   Accuracy  Precision    Recall  F1 score\n",
      "0  0.873626   0.792079  0.975610  0.874317\n",
      "1  0.839530   1.000000  0.364341  0.534091\n",
      "2  0.936683   0.000000  0.000000  0.000000\n",
      "\n",
      "\n",
      "Mean performance metric and standard error:\n",
      "Accuracy: 0.8833 +- 0.0493\n",
      "Precision: 0.5974 +- 0.5277\n",
      "Recall: 0.4467 +- 0.4930\n",
      "F1 score: 0.4695 +- 0.4407\n",
      "\n",
      "\n",
      "window_size=50, sample_step=10, randomly pick features.\n",
      "Model for motor 6:\n",
      "   Accuracy  Precision    Recall  F1 score\n",
      "0  0.873626   0.792079  0.975610  0.874317\n",
      "1  0.882583   0.870968  0.627907  0.729730\n",
      "2  0.936683   0.000000  0.000000  0.000000\n",
      "\n",
      "\n",
      "Mean performance metric and standard error:\n",
      "Accuracy: 0.8976 +- 0.0341\n",
      "Precision: 0.5543 +- 0.4817\n",
      "Recall: 0.5345 +- 0.4945\n",
      "F1 score: 0.5347 +- 0.4687\n",
      "\n",
      "\n"
     ]
    }
   ],
   "source": [
    "# Windowsize = 50.\n",
    "window_size = 50\n",
    "sample_step = 10\n",
    "\n",
    "print(\"---------------Running experiments for Logistic Regression:---------------\")\n",
    "run_experiment(motor_id=6, df_data=df_data_mode, mdl=logistic_pipeline, window_size=window_size, sample_step=sample_step, n_fold=n_cv)\n",
    "\n",
    "print(\"---------------Running experiments for Decision Tree:---------------\")\n",
    "run_experiment(motor_id=6, df_data=df_data_mode, mdl=tree_pipeline, window_size=window_size, sample_step=sample_step, n_fold=n_cv)\n",
    "\n",
    "print(\"---------------Running experiments for Support Vector Machine:---------------\")\n",
    "run_experiment(motor_id=6, df_data=df_data_mode, mdl=svm_pipeline, window_size=window_size, sample_step=sample_step, n_fold=n_cv)"
   ]
  },
  {
   "cell_type": "markdown",
   "metadata": {},
   "source": [
    "| Model                 | Configuration | Features Used | Accuracy | Precision | Recall | F1 Score |\n",
    "|-----------------------|---------------|---------------|----------|-----------|--------|----------|\n",
    "| Logistic Regression   | Window: 1, Sample: 1  | All           | 0.6285   | 0.5898    | 0.8678 | 0.5894   |\n",
    "| Logistic Regression   | Window: 1, Sample: 1  | Random        | 0.6349   | 0.6117    | 0.8678 | 0.5994   |\n",
    "| Logistic Regression   | Window: 50, Sample: 10 | All           | 0.5907   | 0.5969    | 0.8394 | 0.5520   |\n",
    "| Logistic Regression   | Window: 50, Sample: 10 | Random        | 0.6196   | 0.6185    | 0.8885 | 0.6033   |\n",
    "| Decision Tree         | Window: 1, Sample: 1  | All           | 0.9543   | 1.0000    | 0.7119 | 0.8242   |\n",
    "| Decision Tree         | Window: 1, Sample: 1  | Random        | 0.9543   | 1.0000    | 0.7119 | 0.8242   |\n",
    "| Decision Tree         | Window: 50, Sample: 10 | All           | 0.9303   | 0.8699    | 0.8665 | 0.8629   |\n",
    "| Decision Tree         | Window: 50, Sample: 10 | Random        | 0.9173   | 0.8392    | 0.8515 | 0.8389   |\n",
    "| Support Vector Machine| Window: 1, Sample: 1  | All           | 0.9033   | 0.5827    | 0.4694 | 0.5168   |\n",
    "| Support Vector Machine| Window: 1, Sample: 1  | Random        | 0.9056   | 0.6667    | 0.4210 | 0.5151   |\n",
    "| Support Vector Machine| Window: 50, Sample: 10 | All           | 0.8833   | 0.5974    | 0.4467 | 0.4695   |\n",
    "| Support Vector Machine| Window: 50, Sample: 10 | Random        | 0.8976   | 0.5543    | 0.5345 | 0.5347   |"
   ]
  },
  {
   "cell_type": "markdown",
   "metadata": {},
   "source": [
    "## Move only motor 6. (Only logistic regression gave satisfactory results, we can try changing the features too)"
   ]
  },
  {
   "cell_type": "markdown",
   "metadata": {},
   "source": [
    "Windowsize = 1"
   ]
  },
  {
   "cell_type": "code",
   "execution_count": 52,
   "metadata": {},
   "outputs": [
    {
     "name": "stdout",
     "output_type": "stream",
     "text": [
      "---------------Running experiments for Logistic Regression:---------------\n",
      "window_size=1, sample_step=1, all the features.\n",
      "Model for motor 6:\n",
      "   Accuracy  Precision  Recall  F1 score\n",
      "0  0.801336   0.801336     1.0  0.889713\n",
      "1  0.272844   0.272844     1.0  0.428716\n",
      "\n",
      "\n",
      "Mean performance metric and standard error:\n",
      "Accuracy: 0.5371 +- 0.3737\n",
      "Precision: 0.5371 +- 0.3737\n",
      "Recall: 1.0000 +- 0.0000\n",
      "F1 score: 0.6592 +- 0.3260\n",
      "\n",
      "\n",
      "window_size=1, sample_step=1, randomly pick features.\n",
      "Model for motor 6:\n",
      "   Accuracy  Precision    Recall  F1 score\n",
      "0  0.801336   0.801336  1.000000  0.889713\n",
      "1  0.447876   0.312608  0.853774  0.457649\n",
      "\n",
      "\n",
      "Mean performance metric and standard error:\n",
      "Accuracy: 0.6246 +- 0.2499\n",
      "Precision: 0.5570 +- 0.3456\n",
      "Recall: 0.9269 +- 0.1034\n",
      "F1 score: 0.6737 +- 0.3055\n",
      "\n",
      "\n"
     ]
    }
   ],
   "source": [
    "# Turning motor 6\n",
    "df_data_mode = df_data[df_data['test_condition'].isin(['20240503_164675', '20240503_165189'])]\n",
    "n_cv = 2\n",
    "\n",
    "print(\"---------------Running experiments for Logistic Regression:---------------\")\n",
    "run_experiment(motor_id=6, df_data=df_data_mode, mdl=logistic_pipeline, n_fold=n_cv)"
   ]
  },
  {
   "cell_type": "markdown",
   "metadata": {},
   "source": [
    "Windowsize = 5."
   ]
  },
  {
   "cell_type": "code",
   "execution_count": 57,
   "metadata": {},
   "outputs": [
    {
     "name": "stdout",
     "output_type": "stream",
     "text": [
      "---------------Running experiments for Logistic Regression:---------------\n",
      "window_size=5, sample_step=10, all the features.\n",
      "Model for motor 6:\n",
      "   Accuracy  Precision  Recall  F1 score\n",
      "0  0.806723   0.806723     1.0  0.893023\n",
      "1  0.274256   0.274256     1.0  0.430457\n",
      "\n",
      "\n",
      "Mean performance metric and standard error:\n",
      "Accuracy: 0.5405 +- 0.3765\n",
      "Precision: 0.5405 +- 0.3765\n",
      "Recall: 1.0000 +- 0.0000\n",
      "F1 score: 0.6617 +- 0.3271\n",
      "\n",
      "\n",
      "window_size=5, sample_step=10, randomly pick features.\n",
      "Model for motor 6:\n",
      "   Accuracy  Precision    Recall  F1 score\n",
      "0  0.806723   0.806723  1.000000  0.893023\n",
      "1  0.587322   0.383442  0.830189  0.524590\n",
      "\n",
      "\n",
      "Mean performance metric and standard error:\n",
      "Accuracy: 0.6970 +- 0.1551\n",
      "Precision: 0.5951 +- 0.2993\n",
      "Recall: 0.9151 +- 0.1201\n",
      "F1 score: 0.7088 +- 0.2605\n",
      "\n",
      "\n"
     ]
    }
   ],
   "source": [
    "# Windowsize = 5.\n",
    "window_size = 5\n",
    "sample_step = 10\n",
    "\n",
    "print(\"---------------Running experiments for Logistic Regression:---------------\")\n",
    "run_experiment(motor_id=6, df_data=df_data_mode, mdl=logistic_pipeline, window_size=window_size, sample_step=sample_step, n_fold=n_cv)"
   ]
  },
  {
   "cell_type": "markdown",
   "metadata": {},
   "source": [
    "## Pick up and place (Only logistic regression gave satisfactory results, we can try changing the features too)"
   ]
  },
  {
   "cell_type": "markdown",
   "metadata": {},
   "source": [
    "Windowsize = 1"
   ]
  },
  {
   "cell_type": "code",
   "execution_count": 59,
   "metadata": {},
   "outputs": [
    {
     "name": "stdout",
     "output_type": "stream",
     "text": [
      "---------------Running experiments for Logistic Regression:---------------\n",
      "window_size=1, sample_step=1, all the features.\n",
      "Model for motor 6:\n",
      "   Accuracy  Precision    Recall  F1 score\n",
      "0  0.768491   0.139953  0.289176  0.188620\n",
      "1  0.302002   0.302002  1.000000  0.463904\n",
      "\n",
      "\n",
      "Mean performance metric and standard error:\n",
      "Accuracy: 0.5352 +- 0.3299\n",
      "Precision: 0.2210 +- 0.1146\n",
      "Recall: 0.6446 +- 0.5026\n",
      "F1 score: 0.3263 +- 0.1947\n",
      "\n",
      "\n",
      "window_size=1, sample_step=1, randomly pick features.\n",
      "Model for motor 6:\n",
      "   Accuracy  Precision    Recall  F1 score\n",
      "0  0.840649   0.223338  0.287561  0.251412\n",
      "1  0.302002   0.302002  1.000000  0.463904\n",
      "\n",
      "\n",
      "Mean performance metric and standard error:\n",
      "Accuracy: 0.5713 +- 0.3809\n",
      "Precision: 0.2627 +- 0.0556\n",
      "Recall: 0.6438 +- 0.5038\n",
      "F1 score: 0.3577 +- 0.1503\n",
      "\n",
      "\n",
      "---------------Running experiments for Decision Tree:---------------\n",
      "window_size=1, sample_step=1, all the features.\n",
      "Model for motor 6:\n",
      "   Accuracy  Precision  Recall  F1 score\n",
      "0  0.093205   0.093069     1.0  0.170289\n",
      "1  0.697998   0.000000     0.0  0.000000\n",
      "\n",
      "\n",
      "Mean performance metric and standard error:\n",
      "Accuracy: 0.3956 +- 0.4277\n",
      "Precision: 0.0465 +- 0.0658\n",
      "Recall: 0.5000 +- 0.7071\n",
      "F1 score: 0.0851 +- 0.1204\n",
      "\n",
      "\n",
      "window_size=1, sample_step=1, randomly pick features.\n",
      "Model for motor 6:\n",
      "   Accuracy  Precision  Recall  F1 score\n",
      "0  0.906945        0.0     0.0       0.0\n",
      "1  0.697998        0.0     0.0       0.0\n",
      "\n",
      "\n",
      "Mean performance metric and standard error:\n",
      "Accuracy: 0.8025 +- 0.1477\n",
      "Precision: 0.0000 +- 0.0000\n",
      "Recall: 0.0000 +- 0.0000\n",
      "F1 score: 0.0000 +- 0.0000\n",
      "\n",
      "\n",
      "---------------Running experiments for Support Vector Machine:---------------\n",
      "window_size=1, sample_step=1, all the features.\n",
      "Model for motor 6:\n",
      "   Accuracy  Precision  Recall  F1 score\n",
      "0  0.906945        0.0     0.0       0.0\n",
      "1  0.697998        0.0     0.0       0.0\n",
      "\n",
      "\n",
      "Mean performance metric and standard error:\n",
      "Accuracy: 0.8025 +- 0.1477\n",
      "Precision: 0.0000 +- 0.0000\n",
      "Recall: 0.0000 +- 0.0000\n",
      "F1 score: 0.0000 +- 0.0000\n",
      "\n",
      "\n",
      "window_size=1, sample_step=1, randomly pick features.\n",
      "Model for motor 6:\n",
      "   Accuracy  Precision  Recall  F1 score\n",
      "0  0.906945        0.0     0.0       0.0\n",
      "1  0.697998        0.0     0.0       0.0\n",
      "\n",
      "\n",
      "Mean performance metric and standard error:\n",
      "Accuracy: 0.8025 +- 0.1477\n",
      "Precision: 0.0000 +- 0.0000\n",
      "Recall: 0.0000 +- 0.0000\n",
      "F1 score: 0.0000 +- 0.0000\n",
      "\n",
      "\n"
     ]
    }
   ],
   "source": [
    "# Pick up and place\n",
    "df_data_mode = df_data[df_data['test_condition'].isin(['20240503_163963', '20240325_155003'])]\n",
    "n_cv = 2\n",
    "\n",
    "print(\"---------------Running experiments for Logistic Regression:---------------\")\n",
    "run_experiment(motor_id=6, df_data=df_data_mode, mdl=logistic_pipeline, n_fold=n_cv)\n",
    "\n",
    "print(\"---------------Running experiments for Decision Tree:---------------\")\n",
    "run_experiment(motor_id=6, df_data=df_data_mode, mdl=tree_pipeline, n_fold=n_cv)\n",
    "\n",
    "print(\"---------------Running experiments for Support Vector Machine:---------------\")\n",
    "run_experiment(motor_id=6, df_data=df_data_mode, mdl=svm_pipeline, n_fold=n_cv)"
   ]
  },
  {
   "cell_type": "markdown",
   "metadata": {},
   "source": [
    "Windowsize = 50"
   ]
  },
  {
   "cell_type": "code",
   "execution_count": 63,
   "metadata": {},
   "outputs": [
    {
     "name": "stdout",
     "output_type": "stream",
     "text": [
      "---------------Running experiments for Logistic Regression:---------------\n",
      "window_size=50, sample_step=10, all the features.\n",
      "Model for motor 6:\n",
      "   Accuracy  Precision    Recall  F1 score\n",
      "0  0.432985   0.074830  0.444265  0.128086\n",
      "1  0.315455   0.315455  1.000000  0.479613\n",
      "\n",
      "\n",
      "Mean performance metric and standard error:\n",
      "Accuracy: 0.3742 +- 0.0831\n",
      "Precision: 0.1951 +- 0.1701\n",
      "Recall: 0.7221 +- 0.3930\n",
      "F1 score: 0.3038 +- 0.2486\n",
      "\n",
      "\n",
      "window_size=50, sample_step=10, randomly pick features.\n",
      "Model for motor 6:\n",
      "   Accuracy  Precision    Recall  F1 score\n",
      "0  0.616084   0.105761  0.415186  0.168580\n",
      "1  0.315455   0.315455  1.000000  0.479613\n",
      "\n",
      "\n",
      "Mean performance metric and standard error:\n",
      "Accuracy: 0.4658 +- 0.2126\n",
      "Precision: 0.2106 +- 0.1483\n",
      "Recall: 0.7076 +- 0.4135\n",
      "F1 score: 0.3241 +- 0.2199\n",
      "\n",
      "\n"
     ]
    }
   ],
   "source": [
    "# Windowsize = 50.\n",
    "window_size = 50\n",
    "sample_step = 10\n",
    "\n",
    "print(\"---------------Running experiments for Logistic Regression:---------------\")\n",
    "run_experiment(motor_id=6, df_data=df_data_mode, mdl=logistic_pipeline, window_size=window_size, sample_step=sample_step, n_fold=n_cv)"
   ]
  }
 ],
 "metadata": {
  "kernelspec": {
   "display_name": "Python 3",
   "language": "python",
   "name": "python3"
  },
  "language_info": {
   "codemirror_mode": {
    "name": "ipython",
    "version": 3
   },
   "file_extension": ".py",
   "mimetype": "text/x-python",
   "name": "python",
   "nbconvert_exporter": "python",
   "pygments_lexer": "ipython3",
   "version": "3.11.7"
  }
 },
 "nbformat": 4,
 "nbformat_minor": 2
}
